{
  "nbformat": 4,
  "nbformat_minor": 0,
  "metadata": {
    "colab": {
      "provenance": [],
      "authorship_tag": "ABX9TyNPKtSLhyFr1WpFt17BYnpM",
      "include_colab_link": true
    },
    "kernelspec": {
      "name": "python3",
      "display_name": "Python 3"
    },
    "language_info": {
      "name": "python"
    }
  },
  "cells": [
    {
      "cell_type": "markdown",
      "metadata": {
        "id": "view-in-github",
        "colab_type": "text"
      },
      "source": [
        "<a href=\"https://colab.research.google.com/github/usintec/BitcoinStockMarket/blob/master/RegressionModel.ipynb\" target=\"_parent\"><img src=\"https://colab.research.google.com/assets/colab-badge.svg\" alt=\"Open In Colab\"/></a>"
      ]
    },
    {
      "cell_type": "markdown",
      "source": [
        "Install needed packages (optional in Colab)"
      ],
      "metadata": {
        "id": "rVmfmlF4UDDu"
      }
    },
    {
      "cell_type": "code",
      "execution_count": null,
      "metadata": {
        "id": "B3EDDT_aT5ql"
      },
      "outputs": [],
      "source": [
        "!pip install --quiet seaborn statsmodels"
      ]
    },
    {
      "cell_type": "code",
      "source": [
        "import pandas as pd\n",
        "import seaborn as sns\n",
        "import matplotlib.pyplot as plt\n",
        "import statsmodels.api as sm\n",
        "import statsmodels.formula.api as smf"
      ],
      "metadata": {
        "id": "eYTlnwmsUG7f"
      },
      "execution_count": null,
      "outputs": []
    },
    {
      "cell_type": "code",
      "source": [
        "url = 'https://raw.githubusercontent.com/usintec/BitcoinStockMarket/refs/heads/master/bitcoin_ngx_data_template_csv.csv'\n",
        "df = pd.read_csv(url)\n",
        "\n",
        "df.head()"
      ],
      "metadata": {
        "id": "31zIhQ1wUNZC"
      },
      "execution_count": null,
      "outputs": []
    },
    {
      "cell_type": "markdown",
      "source": [
        "# Drop rows with missing values"
      ],
      "metadata": {
        "id": "j9kdRXvRUeI0"
      }
    },
    {
      "cell_type": "code",
      "source": [
        "\n",
        "df = df[['BTC_Volatility', 'NGX_Volatility', 'Regulation']].dropna()"
      ],
      "metadata": {
        "id": "tGx71CxIUbwI"
      },
      "execution_count": null,
      "outputs": []
    },
    {
      "cell_type": "markdown",
      "source": [
        "STEP 3: Create interaction term"
      ],
      "metadata": {
        "id": "ql-0FiFtUlM6"
      }
    },
    {
      "cell_type": "code",
      "source": [
        "df['Interaction'] = df['BTC_Volatility'] * df['Regulation']"
      ],
      "metadata": {
        "id": "OM2XRGkOUfJE"
      },
      "execution_count": null,
      "outputs": []
    },
    {
      "cell_type": "markdown",
      "source": [
        "STEP 4: Fit the moderated regression model"
      ],
      "metadata": {
        "id": "_rBlGooPUu3I"
      }
    },
    {
      "cell_type": "code",
      "source": [
        "model = smf.ols('NGX_Volatility ~ BTC_Volatility + Regulation + Interaction', data=df).fit()"
      ],
      "metadata": {
        "id": "JZS8ZEUhUnaU"
      },
      "execution_count": null,
      "outputs": []
    },
    {
      "cell_type": "markdown",
      "source": [
        "Display regression summary"
      ],
      "metadata": {
        "id": "7PdidcL2U5Cz"
      }
    },
    {
      "cell_type": "code",
      "source": [
        "print(model.summary())\n"
      ],
      "metadata": {
        "id": "7q5YnJi8Uw3r"
      },
      "execution_count": null,
      "outputs": []
    },
    {
      "cell_type": "markdown",
      "source": [
        "STEP 5: Interpretation of β3 (Interaction Term)"
      ],
      "metadata": {
        "id": "-5Lih67aU-yL"
      }
    },
    {
      "cell_type": "code",
      "source": [
        "beta3 = model.params['Interaction']\n",
        "p_value = model.pvalues['Interaction']\n",
        "alpha = 0.05"
      ],
      "metadata": {
        "id": "UpMFPRu6U6iK"
      },
      "execution_count": null,
      "outputs": []
    },
    {
      "cell_type": "code",
      "source": [
        "print(\"\\n--- Moderation Effect Interpretation ---\")\n",
        "print(f\"β3 (Interaction Term) = {beta3:.4f}\")\n",
        "print(f\"p-value = {p_value:.4f}\")"
      ],
      "metadata": {
        "id": "SEdoOuvIVANd"
      },
      "execution_count": null,
      "outputs": []
    },
    {
      "cell_type": "code",
      "source": [
        "if p_value < alpha:\n",
        "    direction = \"weakens\" if beta3 < 0 else \"amplifies\"\n",
        "    print(f\"✅ Significant moderation detected: Regulation {direction} the spillover effect of BTC on NGX.\")\n",
        "else:\n",
        "    print(\"❌ No significant moderation: Regulation does not alter the BTC→NGX relationship.\")"
      ],
      "metadata": {
        "id": "VW8jO2uwVGLa"
      },
      "execution_count": null,
      "outputs": []
    },
    {
      "cell_type": "code",
      "source": [
        "# STEP 6: Visualization\n",
        "plt.figure(figsize=(10, 6))\n",
        "sns.lmplot(data=df, x='BTC_Volatility', y='NGX_Volatility', hue='Regulation',\n",
        "           palette='Set1', height=6, aspect=1.5, markers=[\"o\", \"s\"])\n",
        "plt.title(\"Moderation: BTC Volatility vs NGX Volatility by Regulation\")\n",
        "plt.xlabel(\"Bitcoin Volatility\")\n",
        "plt.ylabel(\"NGX Volatility\")\n",
        "plt.grid(True)\n",
        "plt.tight_layout()\n",
        "plt.show()"
      ],
      "metadata": {
        "id": "B4yfP0vcVJhI"
      },
      "execution_count": null,
      "outputs": []
    }
  ]
}