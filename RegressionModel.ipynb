{
  "nbformat": 4,
  "nbformat_minor": 0,
  "metadata": {
    "colab": {
      "provenance": [],
      "authorship_tag": "ABX9TyP+u6ZExcyLZAlqIRkJZtwv",
      "include_colab_link": true
    },
    "kernelspec": {
      "name": "python3",
      "display_name": "Python 3"
    },
    "language_info": {
      "name": "python"
    }
  },
  "cells": [
    {
      "cell_type": "markdown",
      "metadata": {
        "id": "view-in-github",
        "colab_type": "text"
      },
      "source": [
        "<a href=\"https://colab.research.google.com/github/usintec/BitcoinStockMarket/blob/master/RegressionModel.ipynb\" target=\"_parent\"><img src=\"https://colab.research.google.com/assets/colab-badge.svg\" alt=\"Open In Colab\"/></a>"
      ]
    },
    {
      "cell_type": "markdown",
      "source": [
        "Install needed packages (optional in Colab)"
      ],
      "metadata": {
        "id": "rVmfmlF4UDDu"
      }
    },
    {
      "cell_type": "code",
      "execution_count": 1,
      "metadata": {
        "id": "B3EDDT_aT5ql"
      },
      "outputs": [],
      "source": [
        "!pip install --quiet seaborn statsmodels"
      ]
    },
    {
      "cell_type": "code",
      "source": [
        "import pandas as pd\n",
        "import seaborn as sns\n",
        "import matplotlib.pyplot as plt\n",
        "import statsmodels.api as sm\n",
        "import statsmodels.formula.api as smf"
      ],
      "metadata": {
        "id": "eYTlnwmsUG7f"
      },
      "execution_count": 2,
      "outputs": []
    },
    {
      "cell_type": "code",
      "source": [
        "url = 'https://raw.githubusercontent.com/usintec/BitcoinStockMarket/refs/heads/master/bitcoin_ngx_with_regulatory_shock_updated.csv'\n",
        "df = pd.read_csv(url)\n",
        "\n",
        "df.head()"
      ],
      "metadata": {
        "id": "31zIhQ1wUNZC",
        "outputId": "e326d170-97c3-46a0-d7bd-6b8f7cab322f",
        "colab": {
          "base_uri": "https://localhost:8080/",
          "height": 206
        }
      },
      "execution_count": 7,
      "outputs": [
        {
          "output_type": "execute_result",
          "data": {
            "text/plain": [
              "        Date     BTC_Price   BTC_Volume  BTC_Volatility      NGX_ASI  \\\n",
              "0  1/31/2015   6493.428306  2207479.262        0.060387  25287.30958   \n",
              "1  2/28/2015   6716.899704  2885263.559        0.080655  25064.49335   \n",
              "2  3/31/2015   8512.276780  3504987.279        0.047825  25535.33164   \n",
              "3  4/30/2015  12058.336490  3865755.194        0.058034  25164.77632   \n",
              "4  5/31/2015  12090.029740  1799703.593        0.063803  25390.83345   \n",
              "\n",
              "   NGX_Volatility  Regulatory_shock  \n",
              "0        0.018721                 0  \n",
              "1        0.010445                 0  \n",
              "2        0.003936                 0  \n",
              "3        0.022035                 0  \n",
              "4        0.012436                 0  "
            ],
            "text/html": [
              "\n",
              "  <div id=\"df-aef93fa7-b6ce-4e3f-a50b-e53f7eeb867c\" class=\"colab-df-container\">\n",
              "    <div>\n",
              "<style scoped>\n",
              "    .dataframe tbody tr th:only-of-type {\n",
              "        vertical-align: middle;\n",
              "    }\n",
              "\n",
              "    .dataframe tbody tr th {\n",
              "        vertical-align: top;\n",
              "    }\n",
              "\n",
              "    .dataframe thead th {\n",
              "        text-align: right;\n",
              "    }\n",
              "</style>\n",
              "<table border=\"1\" class=\"dataframe\">\n",
              "  <thead>\n",
              "    <tr style=\"text-align: right;\">\n",
              "      <th></th>\n",
              "      <th>Date</th>\n",
              "      <th>BTC_Price</th>\n",
              "      <th>BTC_Volume</th>\n",
              "      <th>BTC_Volatility</th>\n",
              "      <th>NGX_ASI</th>\n",
              "      <th>NGX_Volatility</th>\n",
              "      <th>Regulatory_shock</th>\n",
              "    </tr>\n",
              "  </thead>\n",
              "  <tbody>\n",
              "    <tr>\n",
              "      <th>0</th>\n",
              "      <td>1/31/2015</td>\n",
              "      <td>6493.428306</td>\n",
              "      <td>2207479.262</td>\n",
              "      <td>0.060387</td>\n",
              "      <td>25287.30958</td>\n",
              "      <td>0.018721</td>\n",
              "      <td>0</td>\n",
              "    </tr>\n",
              "    <tr>\n",
              "      <th>1</th>\n",
              "      <td>2/28/2015</td>\n",
              "      <td>6716.899704</td>\n",
              "      <td>2885263.559</td>\n",
              "      <td>0.080655</td>\n",
              "      <td>25064.49335</td>\n",
              "      <td>0.010445</td>\n",
              "      <td>0</td>\n",
              "    </tr>\n",
              "    <tr>\n",
              "      <th>2</th>\n",
              "      <td>3/31/2015</td>\n",
              "      <td>8512.276780</td>\n",
              "      <td>3504987.279</td>\n",
              "      <td>0.047825</td>\n",
              "      <td>25535.33164</td>\n",
              "      <td>0.003936</td>\n",
              "      <td>0</td>\n",
              "    </tr>\n",
              "    <tr>\n",
              "      <th>3</th>\n",
              "      <td>4/30/2015</td>\n",
              "      <td>12058.336490</td>\n",
              "      <td>3865755.194</td>\n",
              "      <td>0.058034</td>\n",
              "      <td>25164.77632</td>\n",
              "      <td>0.022035</td>\n",
              "      <td>0</td>\n",
              "    </tr>\n",
              "    <tr>\n",
              "      <th>4</th>\n",
              "      <td>5/31/2015</td>\n",
              "      <td>12090.029740</td>\n",
              "      <td>1799703.593</td>\n",
              "      <td>0.063803</td>\n",
              "      <td>25390.83345</td>\n",
              "      <td>0.012436</td>\n",
              "      <td>0</td>\n",
              "    </tr>\n",
              "  </tbody>\n",
              "</table>\n",
              "</div>\n",
              "    <div class=\"colab-df-buttons\">\n",
              "\n",
              "  <div class=\"colab-df-container\">\n",
              "    <button class=\"colab-df-convert\" onclick=\"convertToInteractive('df-aef93fa7-b6ce-4e3f-a50b-e53f7eeb867c')\"\n",
              "            title=\"Convert this dataframe to an interactive table.\"\n",
              "            style=\"display:none;\">\n",
              "\n",
              "  <svg xmlns=\"http://www.w3.org/2000/svg\" height=\"24px\" viewBox=\"0 -960 960 960\">\n",
              "    <path d=\"M120-120v-720h720v720H120Zm60-500h600v-160H180v160Zm220 220h160v-160H400v160Zm0 220h160v-160H400v160ZM180-400h160v-160H180v160Zm440 0h160v-160H620v160ZM180-180h160v-160H180v160Zm440 0h160v-160H620v160Z\"/>\n",
              "  </svg>\n",
              "    </button>\n",
              "\n",
              "  <style>\n",
              "    .colab-df-container {\n",
              "      display:flex;\n",
              "      gap: 12px;\n",
              "    }\n",
              "\n",
              "    .colab-df-convert {\n",
              "      background-color: #E8F0FE;\n",
              "      border: none;\n",
              "      border-radius: 50%;\n",
              "      cursor: pointer;\n",
              "      display: none;\n",
              "      fill: #1967D2;\n",
              "      height: 32px;\n",
              "      padding: 0 0 0 0;\n",
              "      width: 32px;\n",
              "    }\n",
              "\n",
              "    .colab-df-convert:hover {\n",
              "      background-color: #E2EBFA;\n",
              "      box-shadow: 0px 1px 2px rgba(60, 64, 67, 0.3), 0px 1px 3px 1px rgba(60, 64, 67, 0.15);\n",
              "      fill: #174EA6;\n",
              "    }\n",
              "\n",
              "    .colab-df-buttons div {\n",
              "      margin-bottom: 4px;\n",
              "    }\n",
              "\n",
              "    [theme=dark] .colab-df-convert {\n",
              "      background-color: #3B4455;\n",
              "      fill: #D2E3FC;\n",
              "    }\n",
              "\n",
              "    [theme=dark] .colab-df-convert:hover {\n",
              "      background-color: #434B5C;\n",
              "      box-shadow: 0px 1px 3px 1px rgba(0, 0, 0, 0.15);\n",
              "      filter: drop-shadow(0px 1px 2px rgba(0, 0, 0, 0.3));\n",
              "      fill: #FFFFFF;\n",
              "    }\n",
              "  </style>\n",
              "\n",
              "    <script>\n",
              "      const buttonEl =\n",
              "        document.querySelector('#df-aef93fa7-b6ce-4e3f-a50b-e53f7eeb867c button.colab-df-convert');\n",
              "      buttonEl.style.display =\n",
              "        google.colab.kernel.accessAllowed ? 'block' : 'none';\n",
              "\n",
              "      async function convertToInteractive(key) {\n",
              "        const element = document.querySelector('#df-aef93fa7-b6ce-4e3f-a50b-e53f7eeb867c');\n",
              "        const dataTable =\n",
              "          await google.colab.kernel.invokeFunction('convertToInteractive',\n",
              "                                                    [key], {});\n",
              "        if (!dataTable) return;\n",
              "\n",
              "        const docLinkHtml = 'Like what you see? Visit the ' +\n",
              "          '<a target=\"_blank\" href=https://colab.research.google.com/notebooks/data_table.ipynb>data table notebook</a>'\n",
              "          + ' to learn more about interactive tables.';\n",
              "        element.innerHTML = '';\n",
              "        dataTable['output_type'] = 'display_data';\n",
              "        await google.colab.output.renderOutput(dataTable, element);\n",
              "        const docLink = document.createElement('div');\n",
              "        docLink.innerHTML = docLinkHtml;\n",
              "        element.appendChild(docLink);\n",
              "      }\n",
              "    </script>\n",
              "  </div>\n",
              "\n",
              "\n",
              "    <div id=\"df-df8122ba-1f18-43c2-919c-e740a309fed4\">\n",
              "      <button class=\"colab-df-quickchart\" onclick=\"quickchart('df-df8122ba-1f18-43c2-919c-e740a309fed4')\"\n",
              "                title=\"Suggest charts\"\n",
              "                style=\"display:none;\">\n",
              "\n",
              "<svg xmlns=\"http://www.w3.org/2000/svg\" height=\"24px\"viewBox=\"0 0 24 24\"\n",
              "     width=\"24px\">\n",
              "    <g>\n",
              "        <path d=\"M19 3H5c-1.1 0-2 .9-2 2v14c0 1.1.9 2 2 2h14c1.1 0 2-.9 2-2V5c0-1.1-.9-2-2-2zM9 17H7v-7h2v7zm4 0h-2V7h2v10zm4 0h-2v-4h2v4z\"/>\n",
              "    </g>\n",
              "</svg>\n",
              "      </button>\n",
              "\n",
              "<style>\n",
              "  .colab-df-quickchart {\n",
              "      --bg-color: #E8F0FE;\n",
              "      --fill-color: #1967D2;\n",
              "      --hover-bg-color: #E2EBFA;\n",
              "      --hover-fill-color: #174EA6;\n",
              "      --disabled-fill-color: #AAA;\n",
              "      --disabled-bg-color: #DDD;\n",
              "  }\n",
              "\n",
              "  [theme=dark] .colab-df-quickchart {\n",
              "      --bg-color: #3B4455;\n",
              "      --fill-color: #D2E3FC;\n",
              "      --hover-bg-color: #434B5C;\n",
              "      --hover-fill-color: #FFFFFF;\n",
              "      --disabled-bg-color: #3B4455;\n",
              "      --disabled-fill-color: #666;\n",
              "  }\n",
              "\n",
              "  .colab-df-quickchart {\n",
              "    background-color: var(--bg-color);\n",
              "    border: none;\n",
              "    border-radius: 50%;\n",
              "    cursor: pointer;\n",
              "    display: none;\n",
              "    fill: var(--fill-color);\n",
              "    height: 32px;\n",
              "    padding: 0;\n",
              "    width: 32px;\n",
              "  }\n",
              "\n",
              "  .colab-df-quickchart:hover {\n",
              "    background-color: var(--hover-bg-color);\n",
              "    box-shadow: 0 1px 2px rgba(60, 64, 67, 0.3), 0 1px 3px 1px rgba(60, 64, 67, 0.15);\n",
              "    fill: var(--button-hover-fill-color);\n",
              "  }\n",
              "\n",
              "  .colab-df-quickchart-complete:disabled,\n",
              "  .colab-df-quickchart-complete:disabled:hover {\n",
              "    background-color: var(--disabled-bg-color);\n",
              "    fill: var(--disabled-fill-color);\n",
              "    box-shadow: none;\n",
              "  }\n",
              "\n",
              "  .colab-df-spinner {\n",
              "    border: 2px solid var(--fill-color);\n",
              "    border-color: transparent;\n",
              "    border-bottom-color: var(--fill-color);\n",
              "    animation:\n",
              "      spin 1s steps(1) infinite;\n",
              "  }\n",
              "\n",
              "  @keyframes spin {\n",
              "    0% {\n",
              "      border-color: transparent;\n",
              "      border-bottom-color: var(--fill-color);\n",
              "      border-left-color: var(--fill-color);\n",
              "    }\n",
              "    20% {\n",
              "      border-color: transparent;\n",
              "      border-left-color: var(--fill-color);\n",
              "      border-top-color: var(--fill-color);\n",
              "    }\n",
              "    30% {\n",
              "      border-color: transparent;\n",
              "      border-left-color: var(--fill-color);\n",
              "      border-top-color: var(--fill-color);\n",
              "      border-right-color: var(--fill-color);\n",
              "    }\n",
              "    40% {\n",
              "      border-color: transparent;\n",
              "      border-right-color: var(--fill-color);\n",
              "      border-top-color: var(--fill-color);\n",
              "    }\n",
              "    60% {\n",
              "      border-color: transparent;\n",
              "      border-right-color: var(--fill-color);\n",
              "    }\n",
              "    80% {\n",
              "      border-color: transparent;\n",
              "      border-right-color: var(--fill-color);\n",
              "      border-bottom-color: var(--fill-color);\n",
              "    }\n",
              "    90% {\n",
              "      border-color: transparent;\n",
              "      border-bottom-color: var(--fill-color);\n",
              "    }\n",
              "  }\n",
              "</style>\n",
              "\n",
              "      <script>\n",
              "        async function quickchart(key) {\n",
              "          const quickchartButtonEl =\n",
              "            document.querySelector('#' + key + ' button');\n",
              "          quickchartButtonEl.disabled = true;  // To prevent multiple clicks.\n",
              "          quickchartButtonEl.classList.add('colab-df-spinner');\n",
              "          try {\n",
              "            const charts = await google.colab.kernel.invokeFunction(\n",
              "                'suggestCharts', [key], {});\n",
              "          } catch (error) {\n",
              "            console.error('Error during call to suggestCharts:', error);\n",
              "          }\n",
              "          quickchartButtonEl.classList.remove('colab-df-spinner');\n",
              "          quickchartButtonEl.classList.add('colab-df-quickchart-complete');\n",
              "        }\n",
              "        (() => {\n",
              "          let quickchartButtonEl =\n",
              "            document.querySelector('#df-df8122ba-1f18-43c2-919c-e740a309fed4 button');\n",
              "          quickchartButtonEl.style.display =\n",
              "            google.colab.kernel.accessAllowed ? 'block' : 'none';\n",
              "        })();\n",
              "      </script>\n",
              "    </div>\n",
              "\n",
              "    </div>\n",
              "  </div>\n"
            ],
            "application/vnd.google.colaboratory.intrinsic+json": {
              "type": "dataframe",
              "variable_name": "df",
              "summary": "{\n  \"name\": \"df\",\n  \"rows\": 120,\n  \"fields\": [\n    {\n      \"column\": \"Date\",\n      \"properties\": {\n        \"dtype\": \"object\",\n        \"num_unique_values\": 120,\n        \"samples\": [\n          \"9/30/2018\",\n          \"12/31/2018\",\n          \"5/31/2015\"\n        ],\n        \"semantic_type\": \"\",\n        \"description\": \"\"\n      }\n    },\n    {\n      \"column\": \"BTC_Price\",\n      \"properties\": {\n        \"dtype\": \"number\",\n        \"std\": 11209.230565342137,\n        \"min\": 6493.428306,\n        \"max\": 45999.42679,\n        \"num_unique_values\": 120,\n        \"samples\": [\n          8038.174712,\n          9291.453206,\n          12090.02974\n        ],\n        \"semantic_type\": \"\",\n        \"description\": \"\"\n      }\n    },\n    {\n      \"column\": \"BTC_Volume\",\n      \"properties\": {\n        \"dtype\": \"number\",\n        \"std\": 897061.5357437754,\n        \"min\": 241267.3401,\n        \"max\": 5133033.375,\n        \"num_unique_values\": 120,\n        \"samples\": [\n          5133033.375,\n          3588317.206,\n          1799703.593\n        ],\n        \"semantic_type\": \"\",\n        \"description\": \"\"\n      }\n    },\n    {\n      \"column\": \"BTC_Volatility\",\n      \"properties\": {\n        \"dtype\": \"number\",\n        \"std\": 0.021334213702530216,\n        \"min\": 0.003961577,\n        \"max\": 0.111577616,\n        \"num_unique_values\": 120,\n        \"samples\": [\n          0.040998691,\n          0.04715241,\n          0.06380288\n        ],\n        \"semantic_type\": \"\",\n        \"description\": \"\"\n      }\n    },\n    {\n      \"column\": \"NGX_ASI\",\n      \"properties\": {\n        \"dtype\": \"number\",\n        \"std\": 2951.646738643374,\n        \"min\": 25062.70184,\n        \"max\": 33971.52588,\n        \"num_unique_values\": 120,\n        \"samples\": [\n          27189.30925,\n          28278.79947,\n          25390.83345\n        ],\n        \"semantic_type\": \"\",\n        \"description\": \"\"\n      }\n    },\n    {\n      \"column\": \"NGX_Volatility\",\n      \"properties\": {\n        \"dtype\": \"number\",\n        \"std\": 0.009116912433977884,\n        \"min\": 0.000381245,\n        \"max\": 0.042706929,\n        \"num_unique_values\": 120,\n        \"samples\": [\n          0.012367408,\n          0.020480849,\n          0.012436493\n        ],\n        \"semantic_type\": \"\",\n        \"description\": \"\"\n      }\n    },\n    {\n      \"column\": \"Regulatory_shock\",\n      \"properties\": {\n        \"dtype\": \"number\",\n        \"std\": 0,\n        \"min\": 0,\n        \"max\": 1,\n        \"num_unique_values\": 2,\n        \"samples\": [\n          1,\n          0\n        ],\n        \"semantic_type\": \"\",\n        \"description\": \"\"\n      }\n    }\n  ]\n}"
            }
          },
          "metadata": {},
          "execution_count": 7
        }
      ]
    },
    {
      "cell_type": "markdown",
      "source": [
        "# Drop rows with missing values"
      ],
      "metadata": {
        "id": "j9kdRXvRUeI0"
      }
    },
    {
      "cell_type": "code",
      "source": [
        "\n",
        "df = df[['BTC_Volatility', 'NGX_Volatility', 'Regulatory_shock']].dropna()"
      ],
      "metadata": {
        "id": "tGx71CxIUbwI"
      },
      "execution_count": null,
      "outputs": []
    },
    {
      "cell_type": "markdown",
      "source": [
        "STEP 3: Create interaction term"
      ],
      "metadata": {
        "id": "ql-0FiFtUlM6"
      }
    },
    {
      "cell_type": "code",
      "source": [
        "df['Interaction'] = df['BTC_Volatility'] * df['Regulatory_shock']"
      ],
      "metadata": {
        "id": "OM2XRGkOUfJE"
      },
      "execution_count": 8,
      "outputs": []
    },
    {
      "cell_type": "markdown",
      "source": [
        "STEP 4: Fit the moderated regression model"
      ],
      "metadata": {
        "id": "_rBlGooPUu3I"
      }
    },
    {
      "cell_type": "code",
      "source": [
        "model = smf.ols('NGX_Volatility ~ BTC_Volatility + Regulatory_shock + Interaction', data=df).fit()"
      ],
      "metadata": {
        "id": "JZS8ZEUhUnaU"
      },
      "execution_count": 10,
      "outputs": []
    },
    {
      "cell_type": "markdown",
      "source": [
        "Display regression summary"
      ],
      "metadata": {
        "id": "7PdidcL2U5Cz"
      }
    },
    {
      "cell_type": "code",
      "source": [
        "print(model.summary())\n"
      ],
      "metadata": {
        "id": "7q5YnJi8Uw3r",
        "outputId": "f09052ba-b25f-4058-a349-1485f2688054",
        "colab": {
          "base_uri": "https://localhost:8080/"
        }
      },
      "execution_count": 11,
      "outputs": [
        {
          "output_type": "stream",
          "name": "stdout",
          "text": [
            "                            OLS Regression Results                            \n",
            "==============================================================================\n",
            "Dep. Variable:         NGX_Volatility   R-squared:                       0.002\n",
            "Model:                            OLS   Adj. R-squared:                 -0.024\n",
            "Method:                 Least Squares   F-statistic:                   0.07045\n",
            "Date:                Tue, 19 Aug 2025   Prob (F-statistic):              0.976\n",
            "Time:                        08:54:23   Log-Likelihood:                 394.05\n",
            "No. Observations:                 120   AIC:                            -780.1\n",
            "Df Residuals:                     116   BIC:                            -769.0\n",
            "Df Model:                           3                                         \n",
            "Covariance Type:            nonrobust                                         \n",
            "====================================================================================\n",
            "                       coef    std err          t      P>|t|      [0.025      0.975]\n",
            "------------------------------------------------------------------------------------\n",
            "Intercept            0.0181      0.004      4.585      0.000       0.010       0.026\n",
            "BTC_Volatility       0.0158      0.067      0.236      0.814      -0.117       0.148\n",
            "Regulatory_shock     0.0015      0.005      0.312      0.755      -0.008       0.011\n",
            "Interaction         -0.0339      0.083     -0.407      0.685      -0.199       0.131\n",
            "==============================================================================\n",
            "Omnibus:                        1.275   Durbin-Watson:                   2.003\n",
            "Prob(Omnibus):                  0.529   Jarque-Bera (JB):                1.364\n",
            "Skew:                           0.219   Prob(JB):                        0.506\n",
            "Kurtosis:                       2.715   Cond. No.                         151.\n",
            "==============================================================================\n",
            "\n",
            "Notes:\n",
            "[1] Standard Errors assume that the covariance matrix of the errors is correctly specified.\n"
          ]
        }
      ]
    },
    {
      "cell_type": "markdown",
      "source": [
        "STEP 5: Interpretation of β3 (Interaction Term)"
      ],
      "metadata": {
        "id": "-5Lih67aU-yL"
      }
    },
    {
      "cell_type": "code",
      "source": [
        "beta3 = model.params['Interaction']\n",
        "p_value = model.pvalues['Interaction']\n",
        "alpha = 0.05"
      ],
      "metadata": {
        "id": "UpMFPRu6U6iK"
      },
      "execution_count": 12,
      "outputs": []
    },
    {
      "cell_type": "code",
      "source": [
        "print(\"\\n--- Moderation Effect Interpretation ---\")\n",
        "print(f\"β3 (Interaction Term) = {beta3:.4f}\")\n",
        "print(f\"p-value = {p_value:.4f}\")"
      ],
      "metadata": {
        "id": "SEdoOuvIVANd",
        "outputId": "8c039dfe-c1d6-4650-e482-70ddc92eed28",
        "colab": {
          "base_uri": "https://localhost:8080/"
        }
      },
      "execution_count": 13,
      "outputs": [
        {
          "output_type": "stream",
          "name": "stdout",
          "text": [
            "\n",
            "--- Moderation Effect Interpretation ---\n",
            "β3 (Interaction Term) = -0.0339\n",
            "p-value = 0.6848\n"
          ]
        }
      ]
    },
    {
      "cell_type": "code",
      "source": [
        "if p_value < alpha:\n",
        "    direction = \"weakens\" if beta3 < 0 else \"amplifies\"\n",
        "    print(f\"✅ Significant moderation detected: Regulation {direction} the spillover effect of BTC on NGX.\")\n",
        "else:\n",
        "    print(\"❌ No significant moderation: Regulation does not alter the BTC→NGX relationship.\")"
      ],
      "metadata": {
        "id": "VW8jO2uwVGLa",
        "outputId": "0b97f71d-eef9-4768-d582-faf3a7b0fb45",
        "colab": {
          "base_uri": "https://localhost:8080/"
        }
      },
      "execution_count": 14,
      "outputs": [
        {
          "output_type": "stream",
          "name": "stdout",
          "text": [
            "❌ No significant moderation: Regulation does not alter the BTC→NGX relationship.\n"
          ]
        }
      ]
    },
    {
      "cell_type": "code",
      "source": [
        "# STEP 6: Visualization\n",
        "plt.figure(figsize=(10, 6))\n",
        "sns.lmplot(data=df, x='BTC_Volatility', y='NGX_Volatility', hue='Regulatory_shock',\n",
        "           palette='Set1', height=6, aspect=1.5, markers=[\"o\", \"s\"])\n",
        "plt.title(\"Moderation: BTC Volatility vs NGX Volatility by Regulation\")\n",
        "plt.xlabel(\"Bitcoin Volatility\")\n",
        "plt.ylabel(\"NGX Volatility\")\n",
        "plt.grid(True)\n",
        "plt.tight_layout()\n",
        "plt.show()"
      ],
      "metadata": {
        "id": "B4yfP0vcVJhI",
        "outputId": "38908335-a4f3-4d9c-f6dc-303de9fe9d69",
        "colab": {
          "base_uri": "https://localhost:8080/",
          "height": 624
        }
      },
      "execution_count": 16,
      "outputs": [
        {
          "output_type": "display_data",
          "data": {
            "text/plain": [
              "<Figure size 1000x600 with 0 Axes>"
            ]
          },
          "metadata": {}
        },
        {
          "output_type": "display_data",
          "data": {
            "text/plain": [
              "<Figure size 1033.86x600 with 1 Axes>"
            ],
            "image/png": "[encoded data removed]"
          },
          "metadata": {}
        }
      ]
    }
  ]
}