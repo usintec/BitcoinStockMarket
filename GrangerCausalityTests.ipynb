{
  "nbformat": 4,
  "nbformat_minor": 0,
  "metadata": {
    "colab": {
      "provenance": [],
      "gpuType": "T4",
      "authorship_tag": "ABX9TyMBstQaRU987t+vvOMrjTso",
      "include_colab_link": true
    },
    "kernelspec": {
      "name": "python3",
      "display_name": "Python 3"
    },
    "language_info": {
      "name": "python"
    },
    "accelerator": "GPU"
  },
  "cells": [
    {
      "cell_type": "markdown",
      "metadata": {
        "id": "view-in-github",
        "colab_type": "text"
      },
      "source": [
        "<a href=\"https://colab.research.google.com/github/usintec/BitcoinStockMarket/blob/master/GrangerCausalityTests.ipynb\" target=\"_parent\"><img src=\"https://colab.research.google.com/assets/colab-badge.svg\" alt=\"Open In Colab\"/></a>"
      ]
    },
    {
      "cell_type": "markdown",
      "source": [
        "Install necessary libraries (usually preinstalled in Colab)"
      ],
      "metadata": {
        "id": "2-ZT-u9ZU98g"
      }
    },
    {
      "cell_type": "code",
      "execution_count": null,
      "metadata": {
        "id": "AfswdlJbUuES"
      },
      "outputs": [],
      "source": [
        "!pip install --quiet statsmodels seaborn"
      ]
    },
    {
      "cell_type": "markdown",
      "source": [
        "Bitcoin price volatility Granger-causes Nigerian stock market returns."
      ],
      "metadata": {
        "id": "LdS3B2RMVFQ4"
      }
    },
    {
      "cell_type": "code",
      "source": [
        "import pandas as pd\n",
        "import matplotlib.pyplot as plt\n",
        "import seaborn as sns\n",
        "from statsmodels.tsa.stattools import grangercausalitytests"
      ],
      "metadata": {
        "id": "-N7ltK98VIVp"
      },
      "execution_count": null,
      "outputs": []
    },
    {
      "cell_type": "code",
      "source": [
        "url = 'https://raw.githubusercontent.com/usintec/BitcoinStockMarket/refs/heads/master/bitcoin_ngx_data_template_csv.csv'\n",
        "df = pd.read_csv(url)\n",
        "\n",
        "df.head()"
      ],
      "metadata": {
        "id": "e11wWDOYVOgT"
      },
      "execution_count": null,
      "outputs": []
    },
    {
      "cell_type": "markdown",
      "source": [
        "Convert 'Date' column to datetime if it exists"
      ],
      "metadata": {
        "id": "G_Tg2OVcVbWx"
      }
    },
    {
      "cell_type": "code",
      "source": [
        "if 'Date' in df.columns:\n",
        "    df['Date'] = pd.to_datetime(df['Date'])\n",
        "    df = df.sort_values('Date')"
      ],
      "metadata": {
        "id": "zpM3KSfrVR8P"
      },
      "execution_count": null,
      "outputs": []
    },
    {
      "cell_type": "markdown",
      "source": [
        "Keep only relevant columns"
      ],
      "metadata": {
        "id": "dKDPUYhEVhqn"
      }
    },
    {
      "cell_type": "code",
      "source": [
        "df = df[['Date', 'BTC_Volatility', 'NGX_Volatility']].dropna()"
      ],
      "metadata": {
        "id": "YNyaDBo1VZsw"
      },
      "execution_count": null,
      "outputs": []
    },
    {
      "cell_type": "markdown",
      "source": [
        "Plot time series"
      ],
      "metadata": {
        "id": "KdcOhtKSVolw"
      }
    },
    {
      "cell_type": "code",
      "source": [
        "plt.figure(figsize=(12, 6))\n",
        "plt.plot(df['Date'], df['BTC_Volatility'], label='BTC Volatility', color='blue')\n",
        "plt.plot(df['Date'], df['NGX_Volatility'], label='NGX Volatility', color='green')\n",
        "plt.title('Bitcoin vs NGX Volatility Over Time')\n",
        "plt.xlabel('Date')\n",
        "plt.ylabel('Volatility')\n",
        "plt.legend()\n",
        "plt.grid(True)\n",
        "plt.tight_layout()\n",
        "plt.show()"
      ],
      "metadata": {
        "id": "taBFCI9vVm2s"
      },
      "execution_count": null,
      "outputs": []
    }
  ]
}