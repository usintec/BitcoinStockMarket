{
  "nbformat": 4,
  "nbformat_minor": 0,
  "metadata": {
    "colab": {
      "provenance": [],
      "gpuType": "T4",
      "authorship_tag": "ABX9TyMB5pNPb/U8/Pk0eD5VQyr7",
      "include_colab_link": true
    },
    "kernelspec": {
      "name": "python3",
      "display_name": "Python 3"
    },
    "language_info": {
      "name": "python"
    },
    "accelerator": "GPU"
  },
  "cells": [
    {
      "cell_type": "markdown",
      "metadata": {
        "id": "view-in-github",
        "colab_type": "text"
      },
      "source": [
        "<a href=\"https://colab.research.google.com/github/usintec/BitcoinStockMarket/blob/master/corelation.ipynb\" target=\"_parent\"><img src=\"https://colab.research.google.com/assets/colab-badge.svg\" alt=\"Open In Colab\"/></a>"
      ]
    },
    {
      "cell_type": "code",
      "execution_count": 3,
      "metadata": {
        "id": "E9U8LjtN6BDR"
      },
      "outputs": [],
      "source": [
        "!pip install seaborn --quiet"
      ]
    },
    {
      "cell_type": "code",
      "source": [
        "import pandas as pd\n",
        "import math\n",
        "import matplotlib.pyplot as plt\n",
        "import seaborn as sns\n",
        "from scipy.stats import pearsonr"
      ],
      "metadata": {
        "id": "lJccTGkv6Uev"
      },
      "execution_count": 14,
      "outputs": []
    },
    {
      "cell_type": "markdown",
      "source": [
        "Load Dataset"
      ],
      "metadata": {
        "id": "tqrjWde5C-bf"
      }
    },
    {
      "cell_type": "code",
      "source": [
        "url = 'https://raw.githubusercontent.com/usintec/BitcoinStockMarket/refs/heads/master/bitcoin_ngx_data_template_csv.csv'\n",
        "df = pd.read_csv(url)\n",
        "\n",
        "df.head()"
      ],
      "metadata": {
        "colab": {
          "base_uri": "https://localhost:8080/",
          "height": 206
        },
        "id": "BV0lxeK56ZSC",
        "outputId": "5cddf1d4-95c2-4ffc-ea1c-555bc31e7923"
      },
      "execution_count": 6,
      "outputs": [
        {
          "output_type": "execute_result",
          "data": {
            "text/plain": [
              "                  Date     BTC_Price   BTC_Volume  BTC_Volatility  \\\n",
              "0  2015-01-31 00:00:00   6493.428306  2207479.262        0.060387   \n",
              "1  2015-02-28 00:00:00   6716.899704  2885263.559        0.080655   \n",
              "2  2015-03-31 00:00:00   8512.276780  3504987.279        0.047825   \n",
              "3  2015-04-30 00:00:00  12058.336490  3865755.194        0.058034   \n",
              "4  2015-05-31 00:00:00  12090.029740  1799703.593        0.063803   \n",
              "\n",
              "       NGX_ASI  NGX_Volatility  \n",
              "0  25287.30958        0.018721  \n",
              "1  25064.49335        0.010445  \n",
              "2  25535.33164        0.003936  \n",
              "3  25164.77632        0.022035  \n",
              "4  25390.83345        0.012436  "
            ],
            "text/html": [
              "\n",
              "  <div id=\"df-0718bb56-f1fb-41c2-9537-8a3b64fe42a3\" class=\"colab-df-container\">\n",
              "    <div>\n",
              "<style scoped>\n",
              "    .dataframe tbody tr th:only-of-type {\n",
              "        vertical-align: middle;\n",
              "    }\n",
              "\n",
              "    .dataframe tbody tr th {\n",
              "        vertical-align: top;\n",
              "    }\n",
              "\n",
              "    .dataframe thead th {\n",
              "        text-align: right;\n",
              "    }\n",
              "</style>\n",
              "<table border=\"1\" class=\"dataframe\">\n",
              "  <thead>\n",
              "    <tr style=\"text-align: right;\">\n",
              "      <th></th>\n",
              "      <th>Date</th>\n",
              "      <th>BTC_Price</th>\n",
              "      <th>BTC_Volume</th>\n",
              "      <th>BTC_Volatility</th>\n",
              "      <th>NGX_ASI</th>\n",
              "      <th>NGX_Volatility</th>\n",
              "    </tr>\n",
              "  </thead>\n",
              "  <tbody>\n",
              "    <tr>\n",
              "      <th>0</th>\n",
              "      <td>2015-01-31 00:00:00</td>\n",
              "      <td>6493.428306</td>\n",
              "      <td>2207479.262</td>\n",
              "      <td>0.060387</td>\n",
              "      <td>25287.30958</td>\n",
              "      <td>0.018721</td>\n",
              "    </tr>\n",
              "    <tr>\n",
              "      <th>1</th>\n",
              "      <td>2015-02-28 00:00:00</td>\n",
              "      <td>6716.899704</td>\n",
              "      <td>2885263.559</td>\n",
              "      <td>0.080655</td>\n",
              "      <td>25064.49335</td>\n",
              "      <td>0.010445</td>\n",
              "    </tr>\n",
              "    <tr>\n",
              "      <th>2</th>\n",
              "      <td>2015-03-31 00:00:00</td>\n",
              "      <td>8512.276780</td>\n",
              "      <td>3504987.279</td>\n",
              "      <td>0.047825</td>\n",
              "      <td>25535.33164</td>\n",
              "      <td>0.003936</td>\n",
              "    </tr>\n",
              "    <tr>\n",
              "      <th>3</th>\n",
              "      <td>2015-04-30 00:00:00</td>\n",
              "      <td>12058.336490</td>\n",
              "      <td>3865755.194</td>\n",
              "      <td>0.058034</td>\n",
              "      <td>25164.77632</td>\n",
              "      <td>0.022035</td>\n",
              "    </tr>\n",
              "    <tr>\n",
              "      <th>4</th>\n",
              "      <td>2015-05-31 00:00:00</td>\n",
              "      <td>12090.029740</td>\n",
              "      <td>1799703.593</td>\n",
              "      <td>0.063803</td>\n",
              "      <td>25390.83345</td>\n",
              "      <td>0.012436</td>\n",
              "    </tr>\n",
              "  </tbody>\n",
              "</table>\n",
              "</div>\n",
              "    <div class=\"colab-df-buttons\">\n",
              "\n",
              "  <div class=\"colab-df-container\">\n",
              "    <button class=\"colab-df-convert\" onclick=\"convertToInteractive('df-0718bb56-f1fb-41c2-9537-8a3b64fe42a3')\"\n",
              "            title=\"Convert this dataframe to an interactive table.\"\n",
              "            style=\"display:none;\">\n",
              "\n",
              "  <svg xmlns=\"http://www.w3.org/2000/svg\" height=\"24px\" viewBox=\"0 -960 960 960\">\n",
              "    <path d=\"M120-120v-720h720v720H120Zm60-500h600v-160H180v160Zm220 220h160v-160H400v160Zm0 220h160v-160H400v160ZM180-400h160v-160H180v160Zm440 0h160v-160H620v160ZM180-180h160v-160H180v160Zm440 0h160v-160H620v160Z\"/>\n",
              "  </svg>\n",
              "    </button>\n",
              "\n",
              "  <style>\n",
              "    .colab-df-container {\n",
              "      display:flex;\n",
              "      gap: 12px;\n",
              "    }\n",
              "\n",
              "    .colab-df-convert {\n",
              "      background-color: #E8F0FE;\n",
              "      border: none;\n",
              "      border-radius: 50%;\n",
              "      cursor: pointer;\n",
              "      display: none;\n",
              "      fill: #1967D2;\n",
              "      height: 32px;\n",
              "      padding: 0 0 0 0;\n",
              "      width: 32px;\n",
              "    }\n",
              "\n",
              "    .colab-df-convert:hover {\n",
              "      background-color: #E2EBFA;\n",
              "      box-shadow: 0px 1px 2px rgba(60, 64, 67, 0.3), 0px 1px 3px 1px rgba(60, 64, 67, 0.15);\n",
              "      fill: #174EA6;\n",
              "    }\n",
              "\n",
              "    .colab-df-buttons div {\n",
              "      margin-bottom: 4px;\n",
              "    }\n",
              "\n",
              "    [theme=dark] .colab-df-convert {\n",
              "      background-color: #3B4455;\n",
              "      fill: #D2E3FC;\n",
              "    }\n",
              "\n",
              "    [theme=dark] .colab-df-convert:hover {\n",
              "      background-color: #434B5C;\n",
              "      box-shadow: 0px 1px 3px 1px rgba(0, 0, 0, 0.15);\n",
              "      filter: drop-shadow(0px 1px 2px rgba(0, 0, 0, 0.3));\n",
              "      fill: #FFFFFF;\n",
              "    }\n",
              "  </style>\n",
              "\n",
              "    <script>\n",
              "      const buttonEl =\n",
              "        document.querySelector('#df-0718bb56-f1fb-41c2-9537-8a3b64fe42a3 button.colab-df-convert');\n",
              "      buttonEl.style.display =\n",
              "        google.colab.kernel.accessAllowed ? 'block' : 'none';\n",
              "\n",
              "      async function convertToInteractive(key) {\n",
              "        const element = document.querySelector('#df-0718bb56-f1fb-41c2-9537-8a3b64fe42a3');\n",
              "        const dataTable =\n",
              "          await google.colab.kernel.invokeFunction('convertToInteractive',\n",
              "                                                    [key], {});\n",
              "        if (!dataTable) return;\n",
              "\n",
              "        const docLinkHtml = 'Like what you see? Visit the ' +\n",
              "          '<a target=\"_blank\" href=https://colab.research.google.com/notebooks/data_table.ipynb>data table notebook</a>'\n",
              "          + ' to learn more about interactive tables.';\n",
              "        element.innerHTML = '';\n",
              "        dataTable['output_type'] = 'display_data';\n",
              "        await google.colab.output.renderOutput(dataTable, element);\n",
              "        const docLink = document.createElement('div');\n",
              "        docLink.innerHTML = docLinkHtml;\n",
              "        element.appendChild(docLink);\n",
              "      }\n",
              "    </script>\n",
              "  </div>\n",
              "\n",
              "\n",
              "    <div id=\"df-6ae80af3-e02a-4e63-b55b-9d28cda6c539\">\n",
              "      <button class=\"colab-df-quickchart\" onclick=\"quickchart('df-6ae80af3-e02a-4e63-b55b-9d28cda6c539')\"\n",
              "                title=\"Suggest charts\"\n",
              "                style=\"display:none;\">\n",
              "\n",
              "<svg xmlns=\"http://www.w3.org/2000/svg\" height=\"24px\"viewBox=\"0 0 24 24\"\n",
              "     width=\"24px\">\n",
              "    <g>\n",
              "        <path d=\"M19 3H5c-1.1 0-2 .9-2 2v14c0 1.1.9 2 2 2h14c1.1 0 2-.9 2-2V5c0-1.1-.9-2-2-2zM9 17H7v-7h2v7zm4 0h-2V7h2v10zm4 0h-2v-4h2v4z\"/>\n",
              "    </g>\n",
              "</svg>\n",
              "      </button>\n",
              "\n",
              "<style>\n",
              "  .colab-df-quickchart {\n",
              "      --bg-color: #E8F0FE;\n",
              "      --fill-color: #1967D2;\n",
              "      --hover-bg-color: #E2EBFA;\n",
              "      --hover-fill-color: #174EA6;\n",
              "      --disabled-fill-color: #AAA;\n",
              "      --disabled-bg-color: #DDD;\n",
              "  }\n",
              "\n",
              "  [theme=dark] .colab-df-quickchart {\n",
              "      --bg-color: #3B4455;\n",
              "      --fill-color: #D2E3FC;\n",
              "      --hover-bg-color: #434B5C;\n",
              "      --hover-fill-color: #FFFFFF;\n",
              "      --disabled-bg-color: #3B4455;\n",
              "      --disabled-fill-color: #666;\n",
              "  }\n",
              "\n",
              "  .colab-df-quickchart {\n",
              "    background-color: var(--bg-color);\n",
              "    border: none;\n",
              "    border-radius: 50%;\n",
              "    cursor: pointer;\n",
              "    display: none;\n",
              "    fill: var(--fill-color);\n",
              "    height: 32px;\n",
              "    padding: 0;\n",
              "    width: 32px;\n",
              "  }\n",
              "\n",
              "  .colab-df-quickchart:hover {\n",
              "    background-color: var(--hover-bg-color);\n",
              "    box-shadow: 0 1px 2px rgba(60, 64, 67, 0.3), 0 1px 3px 1px rgba(60, 64, 67, 0.15);\n",
              "    fill: var(--button-hover-fill-color);\n",
              "  }\n",
              "\n",
              "  .colab-df-quickchart-complete:disabled,\n",
              "  .colab-df-quickchart-complete:disabled:hover {\n",
              "    background-color: var(--disabled-bg-color);\n",
              "    fill: var(--disabled-fill-color);\n",
              "    box-shadow: none;\n",
              "  }\n",
              "\n",
              "  .colab-df-spinner {\n",
              "    border: 2px solid var(--fill-color);\n",
              "    border-color: transparent;\n",
              "    border-bottom-color: var(--fill-color);\n",
              "    animation:\n",
              "      spin 1s steps(1) infinite;\n",
              "  }\n",
              "\n",
              "  @keyframes spin {\n",
              "    0% {\n",
              "      border-color: transparent;\n",
              "      border-bottom-color: var(--fill-color);\n",
              "      border-left-color: var(--fill-color);\n",
              "    }\n",
              "    20% {\n",
              "      border-color: transparent;\n",
              "      border-left-color: var(--fill-color);\n",
              "      border-top-color: var(--fill-color);\n",
              "    }\n",
              "    30% {\n",
              "      border-color: transparent;\n",
              "      border-left-color: var(--fill-color);\n",
              "      border-top-color: var(--fill-color);\n",
              "      border-right-color: var(--fill-color);\n",
              "    }\n",
              "    40% {\n",
              "      border-color: transparent;\n",
              "      border-right-color: var(--fill-color);\n",
              "      border-top-color: var(--fill-color);\n",
              "    }\n",
              "    60% {\n",
              "      border-color: transparent;\n",
              "      border-right-color: var(--fill-color);\n",
              "    }\n",
              "    80% {\n",
              "      border-color: transparent;\n",
              "      border-right-color: var(--fill-color);\n",
              "      border-bottom-color: var(--fill-color);\n",
              "    }\n",
              "    90% {\n",
              "      border-color: transparent;\n",
              "      border-bottom-color: var(--fill-color);\n",
              "    }\n",
              "  }\n",
              "</style>\n",
              "\n",
              "      <script>\n",
              "        async function quickchart(key) {\n",
              "          const quickchartButtonEl =\n",
              "            document.querySelector('#' + key + ' button');\n",
              "          quickchartButtonEl.disabled = true;  // To prevent multiple clicks.\n",
              "          quickchartButtonEl.classList.add('colab-df-spinner');\n",
              "          try {\n",
              "            const charts = await google.colab.kernel.invokeFunction(\n",
              "                'suggestCharts', [key], {});\n",
              "          } catch (error) {\n",
              "            console.error('Error during call to suggestCharts:', error);\n",
              "          }\n",
              "          quickchartButtonEl.classList.remove('colab-df-spinner');\n",
              "          quickchartButtonEl.classList.add('colab-df-quickchart-complete');\n",
              "        }\n",
              "        (() => {\n",
              "          let quickchartButtonEl =\n",
              "            document.querySelector('#df-6ae80af3-e02a-4e63-b55b-9d28cda6c539 button');\n",
              "          quickchartButtonEl.style.display =\n",
              "            google.colab.kernel.accessAllowed ? 'block' : 'none';\n",
              "        })();\n",
              "      </script>\n",
              "    </div>\n",
              "\n",
              "    </div>\n",
              "  </div>\n"
            ],
            "application/vnd.google.colaboratory.intrinsic+json": {
              "type": "dataframe",
              "variable_name": "df",
              "summary": "{\n  \"name\": \"df\",\n  \"rows\": 120,\n  \"fields\": [\n    {\n      \"column\": \"Date\",\n      \"properties\": {\n        \"dtype\": \"object\",\n        \"num_unique_values\": 120,\n        \"samples\": [\n          \"2018-09-30 00:00:00\",\n          \"2018-12-31 00:00:00\",\n          \"2015-05-31 00:00:00\"\n        ],\n        \"semantic_type\": \"\",\n        \"description\": \"\"\n      }\n    },\n    {\n      \"column\": \"BTC_Price\",\n      \"properties\": {\n        \"dtype\": \"number\",\n        \"std\": 11209.230565342137,\n        \"min\": 6493.428306,\n        \"max\": 45999.42679,\n        \"num_unique_values\": 120,\n        \"samples\": [\n          8038.174712,\n          9291.453206,\n          12090.02974\n        ],\n        \"semantic_type\": \"\",\n        \"description\": \"\"\n      }\n    },\n    {\n      \"column\": \"BTC_Volume\",\n      \"properties\": {\n        \"dtype\": \"number\",\n        \"std\": 897061.5357437754,\n        \"min\": 241267.3401,\n        \"max\": 5133033.375,\n        \"num_unique_values\": 120,\n        \"samples\": [\n          5133033.375,\n          3588317.206,\n          1799703.593\n        ],\n        \"semantic_type\": \"\",\n        \"description\": \"\"\n      }\n    },\n    {\n      \"column\": \"BTC_Volatility\",\n      \"properties\": {\n        \"dtype\": \"number\",\n        \"std\": 0.021334213702530216,\n        \"min\": 0.003961577,\n        \"max\": 0.111577616,\n        \"num_unique_values\": 120,\n        \"samples\": [\n          0.040998691,\n          0.04715241,\n          0.06380288\n        ],\n        \"semantic_type\": \"\",\n        \"description\": \"\"\n      }\n    },\n    {\n      \"column\": \"NGX_ASI\",\n      \"properties\": {\n        \"dtype\": \"number\",\n        \"std\": 2951.646738643374,\n        \"min\": 25062.70184,\n        \"max\": 33971.52588,\n        \"num_unique_values\": 120,\n        \"samples\": [\n          27189.30925,\n          28278.79947,\n          25390.83345\n        ],\n        \"semantic_type\": \"\",\n        \"description\": \"\"\n      }\n    },\n    {\n      \"column\": \"NGX_Volatility\",\n      \"properties\": {\n        \"dtype\": \"number\",\n        \"std\": 0.009116912433977884,\n        \"min\": 0.000381245,\n        \"max\": 0.042706929,\n        \"num_unique_values\": 120,\n        \"samples\": [\n          0.012367408,\n          0.020480849,\n          0.012436493\n        ],\n        \"semantic_type\": \"\",\n        \"description\": \"\"\n      }\n    }\n  ]\n}"
            }
          },
          "metadata": {},
          "execution_count": 6
        }
      ]
    },
    {
      "cell_type": "markdown",
      "source": [
        "Extract X and Y"
      ],
      "metadata": {
        "id": "DV4Z6eIIDGk6"
      }
    },
    {
      "cell_type": "code",
      "source": [
        "X = df[\"BTC_Volume\"].tolist()\n",
        "Y = df[\"NGX_Volatility\"].tolist()\n",
        "n = len(X)\n",
        "# Significance level\n",
        "alpha = 0.05"
      ],
      "metadata": {
        "id": "4G0penL0DD0T"
      },
      "execution_count": 15,
      "outputs": []
    },
    {
      "cell_type": "markdown",
      "source": [
        "Means"
      ],
      "metadata": {
        "id": "XOwV7VPCDQOY"
      }
    },
    {
      "cell_type": "code",
      "source": [
        "mean_X = sum(X) / n\n",
        "mean_Y = sum(Y) / n"
      ],
      "metadata": {
        "id": "Y8LWFfZCDPOg"
      },
      "execution_count": 9,
      "outputs": []
    },
    {
      "cell_type": "markdown",
      "source": [
        "Numerator and denominator components"
      ],
      "metadata": {
        "id": "5r1YtDI_DiVJ"
      }
    },
    {
      "cell_type": "code",
      "source": [
        "numerator = sum((X[i] - mean_X) * (Y[i] - mean_Y) for i in range(n))\n",
        "denominator_X = math.sqrt(sum((X[i] - mean_X) ** 2 for i in range(n)))\n",
        "denominator_Y = math.sqrt(sum((Y[i] - mean_Y) ** 2 for i in range(n)))"
      ],
      "metadata": {
        "id": "FzrhMxiSDf9t"
      },
      "execution_count": 10,
      "outputs": []
    },
    {
      "cell_type": "markdown",
      "source": [
        "Correlation coefficient"
      ],
      "metadata": {
        "id": "GniDHof3EgPw"
      }
    },
    {
      "cell_type": "code",
      "source": [
        "r = numerator / (denominator_X * denominator_Y)\n",
        "r_pearson, p_value = pearsonr(X, Y)\n",
        "print(f\"Correlation coefficient (r): {r:.4f}\")\n",
        "print(f\"Correlation p value (p_value): {p_value:.4f}\")"
      ],
      "metadata": {
        "colab": {
          "base_uri": "https://localhost:8080/"
        },
        "id": "ftXfTQ_PEcyt",
        "outputId": "619475be-71c4-4ea0-f98b-2c015e6e3bcb"
      },
      "execution_count": 18,
      "outputs": [
        {
          "output_type": "stream",
          "name": "stdout",
          "text": [
            "Correlation coefficient (r): 0.0245\n",
            "Correlation p value (p_value): 0.7906\n"
          ]
        }
      ]
    },
    {
      "cell_type": "markdown",
      "source": [
        "Interpretation"
      ],
      "metadata": {
        "id": "EKske3ohE3Ed"
      }
    },
    {
      "cell_type": "code",
      "source": [
        "if r > 0:\n",
        "    relation = \"Positive correlation — higher BTC volume tends to be associated with higher NGX volatility.\"\n",
        "elif r < 0:\n",
        "    relation = \"Negative correlation — higher BTC volume tends to be associated with lower NGX volatility.\"\n",
        "else:\n",
        "    relation = \"No linear correlation.\"\n",
        "print(\"Interpretation:\", relation)"
      ],
      "metadata": {
        "colab": {
          "base_uri": "https://localhost:8080/"
        },
        "id": "S6RncIv1EvVL",
        "outputId": "853e081f-3810-4951-d399-02df282e9ab6"
      },
      "execution_count": 12,
      "outputs": [
        {
          "output_type": "stream",
          "name": "stdout",
          "text": [
            "Interpretation: Positive correlation — higher BTC volume tends to be associated with higher NGX volatility.\n"
          ]
        }
      ]
    },
    {
      "cell_type": "code",
      "source": [
        "if p_value < alpha:\n",
        "    print(\"✅ The correlation is statistically significant at the 95% confidence level.\")\n",
        "else:\n",
        "    print(\"❌ The correlation is NOT statistically significant at the 95% confidence level.\")"
      ],
      "metadata": {
        "colab": {
          "base_uri": "https://localhost:8080/"
        },
        "id": "al6ciEeSI6Do",
        "outputId": "3f307b7a-d2ad-441f-9875-3ad6bdd55268"
      },
      "execution_count": 17,
      "outputs": [
        {
          "output_type": "stream",
          "name": "stdout",
          "text": [
            "❌ The correlation is NOT statistically significant at the 95% confidence level.\n"
          ]
        }
      ]
    },
    {
      "cell_type": "markdown",
      "source": [
        "Plotting"
      ],
      "metadata": {
        "id": "qJCH3HzGFUTc"
      }
    },
    {
      "cell_type": "code",
      "source": [
        "plt.figure(figsize=(10, 6))\n",
        "sns.regplot(x=\"BTC_Volume\", y=\"NGX_Volatility\", data=df, color=\"blue\", marker=\"o\")\n",
        "\n",
        "plt.title(\"Correlation between Bitcoin Trading Volume and NGX Volatility\", fontsize=14)\n",
        "plt.xlabel(\"Bitcoin Trading Volume\", fontsize=12)\n",
        "plt.ylabel(\"NGX Volatility\", fontsize=12)\n",
        "plt.grid(True)\n",
        "plt.tight_layout()\n",
        "plt.show()"
      ],
      "metadata": {
        "colab": {
          "base_uri": "https://localhost:8080/",
          "height": 465
        },
        "id": "5bvp9s1CFRcr",
        "outputId": "25ea74f6-f197-48c9-e15b-ae2466513ccb"
      },
      "execution_count": 13,
      "outputs": [
        {
          "output_type": "display_data",
          "data": {
            "text/plain": [
              "<Figure size 1000x600 with 1 Axes>"
            ],
            "image/png": "[encoded data removed]"
          },
          "metadata": {}
        }
      ]
    }
  ]
}